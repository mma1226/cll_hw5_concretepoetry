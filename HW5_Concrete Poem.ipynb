{
 "cells": [
  {
   "cell_type": "code",
   "execution_count": 104,
   "id": "e41586f2",
   "metadata": {},
   "outputs": [],
   "source": [
    "import random\n",
    "import math"
   ]
  },
  {
   "cell_type": "code",
   "execution_count": 105,
   "id": "4f03eae8",
   "metadata": {},
   "outputs": [],
   "source": [
    "html_tmpl = \"\"\"<!DOCTYPE html>\n",
    "<html lang=\"en\">\n",
    "<head>\n",
    "    <meta charset=\"utf-8\">\n",
    "    <title>{title}</title>\n",
    "    <style>\n",
    "    html {{ min-height: 32em; overflow: hidden; }}\n",
    "    </style>\n",
    "</head>\n",
    "<body>\n",
    "{content}\n",
    "</body>\n",
    "</html>\"\"\""
   ]
  },
  {
   "cell_type": "code",
   "execution_count": 106,
   "id": "539bc84a",
   "metadata": {
    "scrolled": false
   },
   "outputs": [
    {
     "name": "stdout",
     "output_type": "stream",
     "text": [
      "<!DOCTYPE html>\n",
      "<html lang=\"en\">\n",
      "<head>\n",
      "    <meta charset=\"utf-8\">\n",
      "    <title>My first HTML page</title>\n",
      "    <style>\n",
      "    html { min-height: 32em; overflow: hidden; }\n",
      "    </style>\n",
      "</head>\n",
      "<body>\n",
      "<h1>Hi artem I miss you come back nowwwww!</h1>\n",
      "</body>\n",
      "</html>\n"
     ]
    }
   ],
   "source": [
    "interp_src = html_tmpl.format(title=\"My first HTML page\", content=\"<h1>Hi artem I miss you come back nowwwww!</h1>\")\n",
    "print(interp_src)"
   ]
  },
  {
   "cell_type": "code",
   "execution_count": 107,
   "id": "56ff4222",
   "metadata": {},
   "outputs": [],
   "source": [
    "from IPython.display import display, HTML\n",
    "def show_html(src):\n",
    "    return display(HTML(src), metadata=dict(isolated=True))"
   ]
  },
  {
   "cell_type": "code",
   "execution_count": null,
   "id": "784d0709",
   "metadata": {
    "scrolled": true
   },
   "outputs": [],
   "source": []
  },
  {
   "cell_type": "code",
   "execution_count": null,
   "id": "cc878dc8",
   "metadata": {},
   "outputs": [],
   "source": []
  },
  {
   "cell_type": "code",
   "execution_count": null,
   "id": "c5a83600",
   "metadata": {},
   "outputs": [],
   "source": []
  },
  {
   "cell_type": "code",
   "execution_count": null,
   "id": "2b370a6e",
   "metadata": {},
   "outputs": [],
   "source": []
  },
  {
   "cell_type": "code",
   "execution_count": 108,
   "id": "a97fa53f",
   "metadata": {},
   "outputs": [
    {
     "name": "stdout",
     "output_type": "stream",
     "text": [
      "<div style=\"font-family: Helvetica; float: right;\">Hi artem I miss you come back nowwwww or i cry<div>\n"
     ]
    }
   ],
   "source": [
    "vals = {\n",
    "    'font' : random.choice([\"'Comic Sans MS'\", \"'Times New Roman'\", \"Helvetica\"]),\n",
    "    'float_val' : random.choice([\"left\",\"right\"]),\n",
    "    'content':\"Hi artem I miss you come back nowwwww or i cry\"\n",
    "}\n",
    "\n",
    "s = '<div style=\"font-family: {font}; float: {float_val};\">{content}<div>'\n",
    "print (s.format(**vals))"
   ]
  },
  {
   "cell_type": "code",
   "execution_count": 109,
   "id": "de33918f",
   "metadata": {},
   "outputs": [
    {
     "name": "stdout",
     "output_type": "stream",
     "text": [
      "<!DOCTYPE html>\n",
      "<html lang=\"en\">\n",
      "<head>\n",
      "    <meta charset=\"utf-8\">\n",
      "    <title>My first HTML page</title>\n",
      "    <style>\n",
      "    html { min-height: 32em; overflow: hidden; }\n",
      "    </style>\n",
      "</head>\n",
      "<body>\n",
      "Hi artem I miss you come back nowwwww or i cry\n",
      "</body>\n",
      "</html>\n"
     ]
    }
   ],
   "source": [
    "interp_src = html_tmpl.format(title=\"My first HTML page\", content=\"Hi artem I miss you come back nowwwww or i cry\")\n",
    "print(interp_src)"
   ]
  },
  {
   "cell_type": "code",
   "execution_count": 110,
   "id": "8d983224",
   "metadata": {
    "scrolled": true
   },
   "outputs": [
    {
     "data": {
      "text/html": [
       "<!DOCTYPE html>\n",
       "<html lang=\"en\">\n",
       "<head>\n",
       "    <meta charset=\"utf-8\">\n",
       "    <title>My first HTML page</title>\n",
       "    <style>\n",
       "    html { min-height: 32em; overflow: hidden; }\n",
       "    </style>\n",
       "</head>\n",
       "<body>\n",
       "Hi artem I miss you come back nowwwww or i cry\n",
       "</body>\n",
       "</html>"
      ],
      "text/plain": [
       "<IPython.core.display.HTML object>"
      ]
     },
     "metadata": {
      "isolated": true
     },
     "output_type": "display_data"
    }
   ],
   "source": [
    "show_html(interp_src)"
   ]
  },
  {
   "cell_type": "code",
   "execution_count": null,
   "id": "08f8cf2c",
   "metadata": {},
   "outputs": [],
   "source": []
  },
  {
   "cell_type": "code",
   "execution_count": null,
   "id": "885403ef",
   "metadata": {},
   "outputs": [],
   "source": []
  },
  {
   "cell_type": "code",
   "execution_count": null,
   "id": "1240777f",
   "metadata": {},
   "outputs": [],
   "source": []
  },
  {
   "cell_type": "code",
   "execution_count": null,
   "id": "c3e381e9",
   "metadata": {},
   "outputs": [],
   "source": []
  },
  {
   "cell_type": "code",
   "execution_count": 111,
   "id": "4e77fd10",
   "metadata": {},
   "outputs": [
    {
     "data": {
      "text/plain": [
       "6188"
      ]
     },
     "execution_count": 111,
     "metadata": {},
     "output_type": "execute_result"
    }
   ],
   "source": [
    "open(\"stars.html\", \"w\").write(html_src)"
   ]
  },
  {
   "cell_type": "code",
   "execution_count": 112,
   "id": "45949470",
   "metadata": {},
   "outputs": [],
   "source": [
    "!open stars.html"
   ]
  },
  {
   "cell_type": "code",
   "execution_count": 113,
   "id": "6b62e443",
   "metadata": {},
   "outputs": [],
   "source": [
    "def mkdiv(content, **kwargs):\n",
    "    if 'position' not in kwargs:\n",
    "        kwargs['position'] = 'absolute'\n",
    "    style_str = ' '.join([\": \".join((k.replace('_', '-'), v))+\";\" for k, v in kwargs.items()])\n",
    "    return f\"<div style='{style_str}'>{content}</div>\""
   ]
  },
  {
   "cell_type": "code",
   "execution_count": 114,
   "id": "624fa042",
   "metadata": {},
   "outputs": [
    {
     "name": "stdout",
     "output_type": "stream",
     "text": [
      "<div style='top: 50%; left: 50%; font-family: Helvetica; position: absolute;'>nice!</div>\n"
     ]
    }
   ],
   "source": [
    "my_fun_div = mkdiv(\"nice!\",\n",
    "                   top=\"50%\",\n",
    "                   left=\"50%\",\n",
    "                   font_family=\"Helvetica\")\n",
    "print(my_fun_div)"
   ]
  },
  {
   "cell_type": "code",
   "execution_count": null,
   "id": "4352736e",
   "metadata": {},
   "outputs": [],
   "source": []
  },
  {
   "cell_type": "code",
   "execution_count": 115,
   "id": "963d50d2",
   "metadata": {},
   "outputs": [
    {
     "data": {
      "text/html": [
       "<!DOCTYPE html>\n",
       "<html lang=\"en\">\n",
       "<head>\n",
       "    <meta charset=\"utf-8\">\n",
       "    <title>frost grid</title>\n",
       "    <style>\n",
       "    html { min-height: 32em; overflow: hidden; }\n",
       "    </style>\n",
       "</head>\n",
       "<body>\n",
       "<div style='top: 5.0%; left: 5.0%; width: -1em; height: 1em; font-family: Helvetica; overflow-wrap: anywhere; transform: rotate(234deg) translate(-50%, -50%); overflow: hidden; background: white; border-radius: 50%; font-size: 8; position: absolute;'>沒</div><div style='top: 5.0%; left: 6.125%; width: -1em; height: 1em; font-family: Helvetica; overflow-wrap: anywhere; transform: rotate(132deg) translate(-50%, -50%); overflow: hidden; background: white; border-radius: 50%; font-size: 14; position: absolute;'>有</div><div style='top: 5.0%; left: 7.25%; width: -1em; height: 1em; font-family: Helvetica; overflow-wrap: anywhere; transform: rotate(211deg) translate(-50%, -50%); overflow: hidden; background: white; border-radius: 50%; font-size: 21; position: absolute;'>了</div><div style='top: 5.0%; left: 8.375%; width: -1em; height: 1em; font-family: Helvetica; overflow-wrap: anywhere; transform: rotate(3deg) translate(-50%, -50%); overflow: hidden; background: white; border-radius: 50%; font-size: 28; position: absolute;'>音</div><div style='top: 5.0%; left: 9.5%; width: -1em; height: 1em; font-family: Helvetica; overflow-wrap: anywhere; transform: rotate(237deg) translate(-50%, -50%); overflow: hidden; background: white; border-radius: 50%; font-size: 31; position: absolute;'>樂</div><div style='top: 5.0%; left: 10.625%; width: -1em; height: 1em; font-family: Helvetica; overflow-wrap: anywhere; transform: rotate(38deg) translate(-50%, -50%); overflow: hidden; background: white; border-radius: 50%; font-size: 12; position: absolute;'>\n",
       "</div><div style='top: 5.0%; left: 11.75%; width: -1em; height: 1em; font-family: Helvetica; overflow-wrap: anywhere; transform: rotate(11deg) translate(-50%, -50%); overflow: hidden; background: white; border-radius: 50%; font-size: 41; position: absolute;'>就</div><div style='top: 5.0%; left: 12.875%; width: -1em; height: 1em; font-family: Helvetica; overflow-wrap: anywhere; transform: rotate(92deg) translate(-50%, -50%); overflow: hidden; background: white; border-radius: 50%; font-size: 11; position: absolute;'>退</div><div style='top: 5.0%; left: 14.0%; width: -1em; height: 1em; font-family: Helvetica; overflow-wrap: anywhere; transform: rotate(107deg) translate(-50%, -50%); overflow: hidden; background: white; border-radius: 50%; font-size: 28; position: absolute;'>化</div><div style='top: 5.0%; left: 15.125%; width: -1em; height: 1em; font-family: Helvetica; overflow-wrap: anywhere; transform: rotate(237deg) translate(-50%, -50%); overflow: hidden; background: white; border-radius: 50%; font-size: 31; position: absolute;'>耳</div><div style='top: 5.0%; left: 16.25%; width: -1em; height: 1em; font-family: Helvetica; overflow-wrap: anywhere; transform: rotate(286deg) translate(-50%, -50%); overflow: hidden; background: white; border-radius: 50%; font-size: 34; position: absolute;'>朵</div><div style='top: 5.0%; left: 17.375%; width: -1em; height: 1em; font-family: Helvetica; overflow-wrap: anywhere; transform: rotate(51deg) translate(-50%, -50%); overflow: hidden; background: white; border-radius: 50%; font-size: 21; position: absolute;'>\n",
       "</div><div style='top: 5.0%; left: 18.5%; width: -1em; height: 1em; font-family: Helvetica; overflow-wrap: anywhere; transform: rotate(320deg) translate(-50%, -50%); overflow: hidden; background: white; border-radius: 50%; font-size: 31; position: absolute;'>沒</div><div style='top: 5.0%; left: 19.625%; width: -1em; height: 1em; font-family: Helvetica; overflow-wrap: anywhere; transform: rotate(198deg) translate(-50%, -50%); overflow: hidden; background: white; border-radius: 50%; font-size: 31; position: absolute;'>有</div><div style='top: 5.0%; left: 20.75%; width: -1em; height: 1em; font-family: Helvetica; overflow-wrap: anywhere; transform: rotate(255deg) translate(-50%, -50%); overflow: hidden; background: white; border-radius: 50%; font-size: 22; position: absolute;'>了</div><div style='top: 5.0%; left: 21.875%; width: -1em; height: 1em; font-family: Helvetica; overflow-wrap: anywhere; transform: rotate(173deg) translate(-50%, -50%); overflow: hidden; background: white; border-radius: 50%; font-size: 29; position: absolute;'>戒</div><div style='top: 5.0%; left: 23.0%; width: -1em; height: 1em; font-family: Helvetica; overflow-wrap: anywhere; transform: rotate(64deg) translate(-50%, -50%); overflow: hidden; background: white; border-radius: 50%; font-size: 44; position: absolute;'>律</div><div style='top: 5.0%; left: 24.125%; width: -1em; height: 1em; font-family: Helvetica; overflow-wrap: anywhere; transform: rotate(183deg) translate(-50%, -50%); overflow: hidden; background: white; border-radius: 50%; font-size: 4; position: absolute;'>\n",
       "</div><div style='top: 5.0%; left: 25.25%; width: -1em; height: 1em; font-family: Helvetica; overflow-wrap: anywhere; transform: rotate(76deg) translate(-50%, -50%); overflow: hidden; background: white; border-radius: 50%; font-size: 43; position: absolute;'>就</div><div style='top: 5.0%; left: 26.375%; width: -1em; height: 1em; font-family: Helvetica; overflow-wrap: anywhere; transform: rotate(344deg) translate(-50%, -50%); overflow: hidden; background: white; border-radius: 50%; font-size: 42; position: absolute;'>滅</div><div style='top: 5.0%; left: 27.5%; width: -1em; height: 1em; font-family: Helvetica; overflow-wrap: anywhere; transform: rotate(290deg) translate(-50%, -50%); overflow: hidden; background: white; border-radius: 50%; font-size: 47; position: absolute;'>掉</div><div style='top: 5.0%; left: 28.625%; width: -1em; height: 1em; font-family: Helvetica; overflow-wrap: anywhere; transform: rotate(173deg) translate(-50%, -50%); overflow: hidden; background: white; border-radius: 50%; font-size: 45; position: absolute;'>燭</div><div style='top: 5.0%; left: 29.75%; width: -1em; height: 1em; font-family: Helvetica; overflow-wrap: anywhere; transform: rotate(235deg) translate(-50%, -50%); overflow: hidden; background: white; border-radius: 50%; font-size: 35; position: absolute;'>火</div><div style='top: 5.0%; left: 30.875%; width: -1em; height: 1em; font-family: Helvetica; overflow-wrap: anywhere; transform: rotate(107deg) translate(-50%, -50%); overflow: hidden; background: white; border-radius: 50%; font-size: 26; position: absolute;'>\n",
       "</div><div style='top: 5.0%; left: 32.0%; width: -1em; height: 1em; font-family: Helvetica; overflow-wrap: anywhere; transform: rotate(297deg) translate(-50%, -50%); overflow: hidden; background: white; border-radius: 50%; font-size: 32; position: absolute;'>像</div><div style='top: 5.0%; left: 33.125%; width: -1em; height: 1em; font-family: Helvetica; overflow-wrap: anywhere; transform: rotate(355deg) translate(-50%, -50%); overflow: hidden; background: white; border-radius: 50%; font-size: 19; position: absolute;'>回</div><div style='top: 5.0%; left: 34.25%; width: -1em; height: 1em; font-family: Helvetica; overflow-wrap: anywhere; transform: rotate(265deg) translate(-50%, -50%); overflow: hidden; background: white; border-radius: 50%; font-size: 39; position: absolute;'>到</div><div style='top: 5.0%; left: 35.375%; width: -1em; height: 1em; font-family: Helvetica; overflow-wrap: anywhere; transform: rotate(99deg) translate(-50%, -50%); overflow: hidden; background: white; border-radius: 50%; font-size: 31; position: absolute;'>誤</div><div style='top: 5.0%; left: 36.5%; width: -1em; height: 1em; font-family: Helvetica; overflow-wrap: anywhere; transform: rotate(43deg) translate(-50%, -50%); overflow: hidden; background: white; border-radius: 50%; font-size: 17; position: absolute;'>解</div><div style='top: 5.0%; left: 37.625%; width: -1em; height: 1em; font-family: Helvetica; overflow-wrap: anywhere; transform: rotate(215deg) translate(-50%, -50%); overflow: hidden; background: white; border-radius: 50%; font-size: 18; position: absolute;'>\n",
       "</div><div style='top: 5.0%; left: 38.75%; width: -1em; height: 1em; font-family: Helvetica; overflow-wrap: anywhere; transform: rotate(235deg) translate(-50%, -50%); overflow: hidden; background: white; border-radius: 50%; font-size: 7; position: absolute;'>照</div><div style='top: 5.0%; left: 39.875%; width: -1em; height: 1em; font-family: Helvetica; overflow-wrap: anywhere; transform: rotate(217deg) translate(-50%, -50%); overflow: hidden; background: white; border-radius: 50%; font-size: 47; position: absolute;'>相</div><div style='top: 5.0%; left: 41.0%; width: -1em; height: 1em; font-family: Helvetica; overflow-wrap: anywhere; transform: rotate(226deg) translate(-50%, -50%); overflow: hidden; background: white; border-radius: 50%; font-size: 33; position: absolute;'>術</div><div style='top: 5.0%; left: 42.125%; width: -1em; height: 1em; font-family: Helvetica; overflow-wrap: anywhere; transform: rotate(140deg) translate(-50%, -50%); overflow: hidden; background: white; border-radius: 50%; font-size: 44; position: absolute;'>的</div><div style='top: 5.0%; left: 43.25%; width: -1em; height: 1em; font-family: Helvetica; overflow-wrap: anywhere; transform: rotate(0deg) translate(-50%, -50%); overflow: hidden; background: white; border-radius: 50%; font-size: 19; position: absolute;'>年</div><div style='top: 5.0%; left: 44.375%; width: -1em; height: 1em; font-family: Helvetica; overflow-wrap: anywhere; transform: rotate(17deg) translate(-50%, -50%); overflow: hidden; background: white; border-radius: 50%; font-size: 20; position: absolute;'>代</div><div style='top: 5.0%; left: 45.5%; width: -1em; height: 1em; font-family: Helvetica; overflow-wrap: anywhere; transform: rotate(28deg) translate(-50%, -50%); overflow: hidden; background: white; border-radius: 50%; font-size: 31; position: absolute;'>\n",
       "</div><div style='top: 5.0%; left: 46.625%; width: -1em; height: 1em; font-family: Helvetica; overflow-wrap: anywhere; transform: rotate(125deg) translate(-50%, -50%); overflow: hidden; background: white; border-radius: 50%; font-size: 23; position: absolute;'>你</div><div style='top: 5.0%; left: 47.75%; width: -1em; height: 1em; font-family: Helvetica; overflow-wrap: anywhere; transform: rotate(250deg) translate(-50%, -50%); overflow: hidden; background: white; border-radius: 50%; font-size: 39; position: absolute;'>攝</div><div style='top: 5.0%; left: 48.875%; width: -1em; height: 1em; font-family: Helvetica; overflow-wrap: anywhere; transform: rotate(112deg) translate(-50%, -50%); overflow: hidden; background: white; border-radius: 50%; font-size: 14; position: absolute;'>取</div><div style='top: 5.0%; left: 50.0%; width: -1em; height: 1em; font-family: Helvetica; overflow-wrap: anywhere; transform: rotate(194deg) translate(-50%, -50%); overflow: hidden; background: white; border-radius: 50%; font-size: 38; position: absolute;'>我</div><div style='top: 5.0%; left: 51.125%; width: -1em; height: 1em; font-family: Helvetica; overflow-wrap: anywhere; transform: rotate(234deg) translate(-50%, -50%); overflow: hidden; background: white; border-radius: 50%; font-size: 12; position: absolute;'>的</div><div style='top: 5.0%; left: 52.25%; width: -1em; height: 1em; font-family: Helvetica; overflow-wrap: anywhere; transform: rotate(351deg) translate(-50%, -50%); overflow: hidden; background: white; border-radius: 50%; font-size: 32; position: absolute;'>\n",
       "</div><div style='top: 5.0%; left: 53.375%; width: -1em; height: 1em; font-family: Helvetica; overflow-wrap: anywhere; transform: rotate(334deg) translate(-50%, -50%); overflow: hidden; background: white; border-radius: 50%; font-size: 45; position: absolute;'>靈</div><div style='top: 5.0%; left: 54.5%; width: -1em; height: 1em; font-family: Helvetica; overflow-wrap: anywhere; transform: rotate(102deg) translate(-50%, -50%); overflow: hidden; background: white; border-radius: 50%; font-size: 45; position: absolute;'>魂</div><div style='top: 5.0%; left: 55.625%; width: -1em; height: 1em; font-family: Helvetica; overflow-wrap: anywhere; transform: rotate(96deg) translate(-50%, -50%); overflow: hidden; background: white; border-radius: 50%; font-size: 39; position: absolute;'>\n",
       "</div><div style='top: 5.0%; left: 56.75%; width: -1em; height: 1em; font-family: Helvetica; overflow-wrap: anywhere; transform: rotate(264deg) translate(-50%, -50%); overflow: hidden; background: white; border-radius: 50%; font-size: 15; position: absolute;'>沒</div><div style='top: 5.0%; left: 57.875%; width: -1em; height: 1em; font-family: Helvetica; overflow-wrap: anywhere; transform: rotate(99deg) translate(-50%, -50%); overflow: hidden; background: white; border-radius: 50%; font-size: 7; position: absolute;'>有</div><div style='top: 5.0%; left: 59.0%; width: -1em; height: 1em; font-family: Helvetica; overflow-wrap: anywhere; transform: rotate(269deg) translate(-50%, -50%); overflow: hidden; background: white; border-radius: 50%; font-size: 9; position: absolute;'>了</div><div style='top: 5.0%; left: 60.125%; width: -1em; height: 1em; font-family: Helvetica; overflow-wrap: anywhere; transform: rotate(63deg) translate(-50%, -50%); overflow: hidden; background: white; border-radius: 50%; font-size: 46; position: absolute;'>剃</div><div style='top: 5.0%; left: 61.25%; width: -1em; height: 1em; font-family: Helvetica; overflow-wrap: anywhere; transform: rotate(37deg) translate(-50%, -50%); overflow: hidden; background: white; border-radius: 50%; font-size: 43; position: absolute;'>刀</div><div style='top: 5.0%; left: 62.375%; width: -1em; height: 1em; font-family: Helvetica; overflow-wrap: anywhere; transform: rotate(152deg) translate(-50%, -50%); overflow: hidden; background: white; border-radius: 50%; font-size: 43; position: absolute;'>\n",
       "</div><div style='top: 5.0%; left: 63.5%; width: -1em; height: 1em; font-family: Helvetica; overflow-wrap: anywhere; transform: rotate(272deg) translate(-50%, -50%); overflow: hidden; background: white; border-radius: 50%; font-size: 6; position: absolute;'>就</div><div style='top: 5.0%; left: 64.625%; width: -1em; height: 1em; font-family: Helvetica; overflow-wrap: anywhere; transform: rotate(291deg) translate(-50%, -50%); overflow: hidden; background: white; border-radius: 50%; font-size: 4; position: absolute;'>封</div><div style='top: 5.0%; left: 65.75%; width: -1em; height: 1em; font-family: Helvetica; overflow-wrap: anywhere; transform: rotate(239deg) translate(-50%, -50%); overflow: hidden; background: white; border-radius: 50%; font-size: 43; position: absolute;'>鎖</div><div style='top: 5.0%; left: 66.875%; width: -1em; height: 1em; font-family: Helvetica; overflow-wrap: anywhere; transform: rotate(34deg) translate(-50%, -50%); overflow: hidden; background: white; border-radius: 50%; font-size: 38; position: absolute;'>語</div><div style='top: 5.0%; left: 68.0%; width: -1em; height: 1em; font-family: Helvetica; overflow-wrap: anywhere; transform: rotate(262deg) translate(-50%, -50%); overflow: hidden; background: white; border-radius: 50%; font-size: 26; position: absolute;'>言</div><div style='top: 5.0%; left: 69.125%; width: -1em; height: 1em; font-family: Helvetica; overflow-wrap: anywhere; transform: rotate(189deg) translate(-50%, -50%); overflow: hidden; background: white; border-radius: 50%; font-size: 16; position: absolute;'>\n",
       "</div><div style='top: 5.0%; left: 70.25%; width: -1em; height: 1em; font-family: Helvetica; overflow-wrap: anywhere; transform: rotate(3deg) translate(-50%, -50%); overflow: hidden; background: white; border-radius: 50%; font-size: 29; position: absolute;'>沒</div><div style='top: 5.0%; left: 71.375%; width: -1em; height: 1em; font-family: Helvetica; overflow-wrap: anywhere; transform: rotate(89deg) translate(-50%, -50%); overflow: hidden; background: white; border-radius: 50%; font-size: 37; position: absolute;'>有</div><div style='top: 5.0%; left: 72.5%; width: -1em; height: 1em; font-family: Helvetica; overflow-wrap: anywhere; transform: rotate(134deg) translate(-50%, -50%); overflow: hidden; background: white; border-radius: 50%; font-size: 7; position: absolute;'>了</div><div style='top: 5.0%; left: 73.625%; width: -1em; height: 1em; font-family: Helvetica; overflow-wrap: anywhere; transform: rotate(94deg) translate(-50%, -50%); overflow: hidden; background: white; border-radius: 50%; font-size: 39; position: absolute;'>心</div><div style='top: 5.0%; left: 74.75%; width: -1em; height: 1em; font-family: Helvetica; overflow-wrap: anywhere; transform: rotate(57deg) translate(-50%, -50%); overflow: hidden; background: white; border-radius: 50%; font-size: 12; position: absolute;'>臟</div><div style='top: 5.0%; left: 75.875%; width: -1em; height: 1em; font-family: Helvetica; overflow-wrap: anywhere; transform: rotate(119deg) translate(-50%, -50%); overflow: hidden; background: white; border-radius: 50%; font-size: 18; position: absolute;'>\n",
       "</div><div style='top: 5.0%; left: 77.0%; width: -1em; height: 1em; font-family: Helvetica; overflow-wrap: anywhere; transform: rotate(143deg) translate(-50%, -50%); overflow: hidden; background: white; border-radius: 50%; font-size: 19; position: absolute;'>卻</div><div style='top: 5.0%; left: 78.125%; width: -1em; height: 1em; font-family: Helvetica; overflow-wrap: anywhere; transform: rotate(18deg) translate(-50%, -50%); overflow: hidden; background: white; border-radius: 50%; font-size: 19; position: absolute;'>活</div><div style='top: 5.0%; left: 79.25%; width: -1em; height: 1em; font-family: Helvetica; overflow-wrap: anywhere; transform: rotate(142deg) translate(-50%, -50%); overflow: hidden; background: white; border-radius: 50%; font-size: 40; position: absolute;'>了</div><div style='top: 5.0%; left: 80.375%; width: -1em; height: 1em; font-family: Helvetica; overflow-wrap: anywhere; transform: rotate(61deg) translate(-50%, -50%); overflow: hidden; background: white; border-radius: 50%; font-size: 38; position: absolute;'>九</div><div style='top: 5.0%; left: 81.5%; width: -1em; height: 1em; font-family: Helvetica; overflow-wrap: anywhere; transform: rotate(192deg) translate(-50%, -50%); overflow: hidden; background: white; border-radius: 50%; font-size: 33; position: absolute;'>年</div>\n",
       "</body>\n",
       "</html>"
      ],
      "text/plain": [
       "<IPython.core.display.HTML object>"
      ]
     },
     "metadata": {
      "isolated": true
     },
     "output_type": "display_data"
    }
   ],
   "source": [
    "src = open(\"kaili.txt\").read()\n",
    "letters = list(src)\n",
    "grid_size = 10*int(math.sqrt(len(letters)))\n",
    "current_index = 0\n",
    "divs = []\n",
    "for i in range(grid_size*2):\n",
    "    for j in range(grid_size):\n",
    "        degrees = random.randrange(360)\n",
    "        x_pos = 5 + (90 / grid_size) * i\n",
    "        y_pos = 5 + (90 / (grid_size)) * j\n",
    "        if current_index < len(letters):\n",
    "            this_div = mkdiv(letters[current_index],\n",
    "                             \n",
    "                             top=f\"{x_pos}%\",\n",
    "                             left=f\"{y_pos}%\",\n",
    "                             width=f\"{(i-1)}em\",\n",
    "                             height=f\"{(i+1)}em\",\n",
    "                             font_family=\"Helvetica\",\n",
    "                             overflow_wrap=\"anywhere\",\n",
    "                             transform=f\"rotate({degrees}deg) translate(-50%, -50%)\",\n",
    "                             overflow=\"hidden\",         # hide text that falls outside the box\n",
    "                             background=\"white\",        # make this opaque\n",
    "                             border_radius=\"50%\",\n",
    "                             font_size=f\"{random.randrange(4, 48)}\")\n",
    "            divs.append(this_div)\n",
    "            current_index += 1\n",
    "html_src = html_tmpl.format(title=\"frost grid\", content=\"\".join(divs))\n",
    "show_html(html_src)\n"
   ]
  },
  {
   "cell_type": "code",
   "execution_count": 116,
   "id": "18366312",
   "metadata": {},
   "outputs": [
    {
     "name": "stdout",
     "output_type": "stream",
     "text": [
      "The file /Users/michellema/cll-2023/material-of-language-master/Poem1.html does not exist.\r\n"
     ]
    }
   ],
   "source": [
    "src = open(\"kaili.txt\").read()\n",
    "letters = list(src)\n",
    "grid_size = int(math.sqrt(len(letters)))\n",
    "current_index = 0\n",
    "divs = []\n",
    "for i in range(grid_size*2):\n",
    "    for j in range(grid_size):\n",
    "        degrees = random.randrange(-180,180)\n",
    "        x_pos = 5 + (90 / grid_size) * i\n",
    "        y_pos = 5 + (90 / (grid_size)) * j\n",
    "        if current_index < len(letters):\n",
    "            this_div = mkdiv(letters[current_index],\n",
    "                             top=f\"{x_pos}%\",\n",
    "                             left=f\"{y_pos}%\",\n",
    "                             font_family=\"Helvetica\",\n",
    "                             overflow_wrap=\"anywhere\",\n",
    "                             transform=f\"rotate({degrees}deg) translate(-50%, -50%)\",\n",
    "                             overflow=\"hidden\",         # hide text that falls outside the box\n",
    "                             background=\"white\",        # make this opaque\n",
    "                             border_radius=\"50%\",\n",
    "                             font_size=f\"{random.randrange(2, 1000)}\")\n",
    "            divs.append(this_div)\n",
    "            current_index += 1\n",
    "html_src = html_tmpl.format(title=\"\", content=\"\".join(divs))\n",
    "open(\"Poem1\", \"w\").write(html_src)\n",
    "!open Poem1.html"
   ]
  },
  {
   "cell_type": "code",
   "execution_count": 117,
   "id": "bed158af",
   "metadata": {},
   "outputs": [
    {
     "data": {
      "text/plain": [
       "16514"
      ]
     },
     "execution_count": 117,
     "metadata": {},
     "output_type": "execute_result"
    }
   ],
   "source": [
    "open(\"kaili1.html\", \"w\").write(html_src)"
   ]
  },
  {
   "cell_type": "code",
   "execution_count": 118,
   "id": "e7035481",
   "metadata": {},
   "outputs": [],
   "source": [
    "!open kaili1.html"
   ]
  },
  {
   "cell_type": "code",
   "execution_count": 119,
   "id": "919d8f24",
   "metadata": {},
   "outputs": [
    {
     "name": "stdout",
     "output_type": "stream",
     "text": [
      "The file /Users/michellema/cll-2023/material-of-language-master/Poem1.html does not exist.\r\n"
     ]
    }
   ],
   "source": [
    "!open Poem1.html"
   ]
  },
  {
   "cell_type": "code",
   "execution_count": 120,
   "id": "14497066",
   "metadata": {},
   "outputs": [
    {
     "data": {
      "text/html": [
       "<!DOCTYPE html>\n",
       "<html lang=\"en\">\n",
       "<head>\n",
       "    <meta charset=\"utf-8\">\n",
       "    <title>frost spiral</title>\n",
       "    <style>\n",
       "    html { min-height: 32em; overflow: hidden; }\n",
       "    </style>\n",
       "</head>\n",
       "<body>\n",
       "<div style='top: 50%; left: 50%; height: 100pt; font-size: 15pt; transform: translate(-50%, -50%) rotate(0deg); position: absolute;'>There</div><div style='top: 50%; left: 50%; height: 103pt; font-size: 15pt; transform: translate(-50%, -50%) rotate(100deg); position: absolute;'>is</div><div style='top: 50%; left: 50%; height: 106pt; font-size: 15pt; transform: translate(-50%, -50%) rotate(200deg); position: absolute;'>so</div><div style='top: 50%; left: 50%; height: 109pt; font-size: 15pt; transform: translate(-50%, -50%) rotate(300deg); position: absolute;'>much</div><div style='top: 50%; left: 50%; height: 112pt; font-size: 15pt; transform: translate(-50%, -50%) rotate(400deg); position: absolute;'>loneliness</div><div style='top: 50%; left: 50%; height: 115pt; font-size: 15pt; transform: translate(-50%, -50%) rotate(500deg); position: absolute;'>in</div><div style='top: 50%; left: 50%; height: 118pt; font-size: 15pt; transform: translate(-50%, -50%) rotate(600deg); position: absolute;'>that</div><div style='top: 50%; left: 50%; height: 121pt; font-size: 15pt; transform: translate(-50%, -50%) rotate(700deg); position: absolute;'>gold.</div><div style='top: 50%; left: 50%; height: 124pt; font-size: 15pt; transform: translate(-50%, -50%) rotate(800deg); position: absolute;'>The</div><div style='top: 50%; left: 50%; height: 127pt; font-size: 15pt; transform: translate(-50%, -50%) rotate(900deg); position: absolute;'>moon</div><div style='top: 50%; left: 50%; height: 130pt; font-size: 15pt; transform: translate(-50%, -50%) rotate(1000deg); position: absolute;'>of</div><div style='top: 50%; left: 50%; height: 133pt; font-size: 15pt; transform: translate(-50%, -50%) rotate(1100deg); position: absolute;'>every</div><div style='top: 50%; left: 50%; height: 136pt; font-size: 15pt; transform: translate(-50%, -50%) rotate(1200deg); position: absolute;'>night</div><div style='top: 50%; left: 50%; height: 139pt; font-size: 15pt; transform: translate(-50%, -50%) rotate(1300deg); position: absolute;'>is</div><div style='top: 50%; left: 50%; height: 142pt; font-size: 15pt; transform: translate(-50%, -50%) rotate(1400deg); position: absolute;'>not</div><div style='top: 50%; left: 50%; height: 145pt; font-size: 15pt; transform: translate(-50%, -50%) rotate(1500deg); position: absolute;'>the</div><div style='top: 50%; left: 50%; height: 148pt; font-size: 15pt; transform: translate(-50%, -50%) rotate(1600deg); position: absolute;'>moon</div><div style='top: 50%; left: 50%; height: 151pt; font-size: 15pt; transform: translate(-50%, -50%) rotate(1700deg); position: absolute;'>That</div><div style='top: 50%; left: 50%; height: 154pt; font-size: 15pt; transform: translate(-50%, -50%) rotate(1800deg); position: absolute;'>the</div><div style='top: 50%; left: 50%; height: 157pt; font-size: 15pt; transform: translate(-50%, -50%) rotate(1900deg); position: absolute;'>first</div><div style='top: 50%; left: 50%; height: 160pt; font-size: 15pt; transform: translate(-50%, -50%) rotate(2000deg); position: absolute;'>Adam</div><div style='top: 50%; left: 50%; height: 163pt; font-size: 15pt; transform: translate(-50%, -50%) rotate(2100deg); position: absolute;'>saw.</div><div style='top: 50%; left: 50%; height: 166pt; font-size: 15pt; transform: translate(-50%, -50%) rotate(2200deg); position: absolute;'>The</div><div style='top: 50%; left: 50%; height: 169pt; font-size: 15pt; transform: translate(-50%, -50%) rotate(2300deg); position: absolute;'>centuries</div><div style='top: 50%; left: 50%; height: 172pt; font-size: 15pt; transform: translate(-50%, -50%) rotate(2400deg); position: absolute;'>Of</div><div style='top: 50%; left: 50%; height: 175pt; font-size: 15pt; transform: translate(-50%, -50%) rotate(2500deg); position: absolute;'>human</div><div style='top: 50%; left: 50%; height: 178pt; font-size: 15pt; transform: translate(-50%, -50%) rotate(2600deg); position: absolute;'>wakefulness</div><div style='top: 50%; left: 50%; height: 181pt; font-size: 15pt; transform: translate(-50%, -50%) rotate(2700deg); position: absolute;'>have</div><div style='top: 50%; left: 50%; height: 184pt; font-size: 15pt; transform: translate(-50%, -50%) rotate(2800deg); position: absolute;'>left</div><div style='top: 50%; left: 50%; height: 187pt; font-size: 15pt; transform: translate(-50%, -50%) rotate(2900deg); position: absolute;'>it</div><div style='top: 50%; left: 50%; height: 190pt; font-size: 15pt; transform: translate(-50%, -50%) rotate(3000deg); position: absolute;'>brimming</div><div style='top: 50%; left: 50%; height: 193pt; font-size: 15pt; transform: translate(-50%, -50%) rotate(3100deg); position: absolute;'>With</div><div style='top: 50%; left: 50%; height: 196pt; font-size: 15pt; transform: translate(-50%, -50%) rotate(3200deg); position: absolute;'>ancient</div><div style='top: 50%; left: 50%; height: 199pt; font-size: 15pt; transform: translate(-50%, -50%) rotate(3300deg); position: absolute;'>tears.</div><div style='top: 50%; left: 50%; height: 202pt; font-size: 15pt; transform: translate(-50%, -50%) rotate(3400deg); position: absolute;'>Look</div><div style='top: 50%; left: 50%; height: 205pt; font-size: 15pt; transform: translate(-50%, -50%) rotate(3500deg); position: absolute;'>at</div><div style='top: 50%; left: 50%; height: 208pt; font-size: 15pt; transform: translate(-50%, -50%) rotate(3600deg); position: absolute;'>it.</div><div style='top: 50%; left: 50%; height: 211pt; font-size: 15pt; transform: translate(-50%, -50%) rotate(3700deg); position: absolute;'>It</div><div style='top: 50%; left: 50%; height: 214pt; font-size: 15pt; transform: translate(-50%, -50%) rotate(3800deg); position: absolute;'>is</div><div style='top: 50%; left: 50%; height: 217pt; font-size: 15pt; transform: translate(-50%, -50%) rotate(3900deg); position: absolute;'>your</div><div style='top: 50%; left: 50%; height: 220pt; font-size: 15pt; transform: translate(-50%, -50%) rotate(4000deg); position: absolute;'>mirror.</div>\n",
       "</body>\n",
       "</html>"
      ],
      "text/plain": [
       "<IPython.core.display.HTML object>"
      ]
     },
     "metadata": {
      "isolated": true
     },
     "output_type": "display_data"
    }
   ],
   "source": [
    "words = open(\"themoon.txt\").read().split()\n",
    "divs = []\n",
    "angle_step = 100\n",
    "for i, word in enumerate(words):\n",
    "    angle = i * angle_step\n",
    "    this_div = mkdiv(word,\n",
    "                     top=f\"50%\",\n",
    "                     left=f\"50%\",\n",
    "                     height=f\"{100+i*3}pt\",\n",
    "                     font_size=\"15pt\",\n",
    "                     #border=\"1px black solid\", # uncomment to see the boxes\n",
    "                     transform=f\"translate(-50%, -50%) rotate({angle}deg)\")\n",
    "    divs.append(this_div)\n",
    "html_src = html_tmpl.format(title=\"frost spiral\", content=\"\".join(divs))\n",
    "show_html(html_src)"
   ]
  },
  {
   "cell_type": "code",
   "execution_count": null,
   "id": "8e51eb00",
   "metadata": {},
   "outputs": [],
   "source": []
  }
 ],
 "metadata": {
  "kernelspec": {
   "display_name": "Python 3 (ipykernel)",
   "language": "python",
   "name": "python3"
  },
  "language_info": {
   "codemirror_mode": {
    "name": "ipython",
    "version": 3
   },
   "file_extension": ".py",
   "mimetype": "text/x-python",
   "name": "python",
   "nbconvert_exporter": "python",
   "pygments_lexer": "ipython3",
   "version": "3.9.13"
  }
 },
 "nbformat": 4,
 "nbformat_minor": 5
}
